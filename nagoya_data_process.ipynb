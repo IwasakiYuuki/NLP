{
 "cells": [
  {
   "cell_type": "code",
   "execution_count": 4,
   "metadata": {},
   "outputs": [
    {
     "name": "stdout",
     "output_type": "stream",
     "text": [
      "C:\\Users\\yuuki\\PycharmProjects\\NLP\\data\\nagoya_corpus\n"
     ]
    }
   ],
   "source": [
    "import pickle\n",
    "import re\n",
    "import sentencepiece as spm\n",
    "\n",
    "%cd ../../data/nagoya_corpus/"
   ]
  },
  {
   "cell_type": "markdown",
   "metadata": {},
   "source": [
    "## データ読み込み"
   ]
  },
  {
   "cell_type": "code",
   "execution_count": 5,
   "metadata": {},
   "outputs": [],
   "source": [
    "data = []\n",
    "for i in range(1, 130):\n",
    "    with open('data{}.txt'.format(str(i).zfill(3)), encoding='utf-8') as f:\n",
    "        data.extend(f.readlines())"
   ]
  },
  {
   "cell_type": "markdown",
   "metadata": {},
   "source": [
    "## データ整形"
   ]
  },
  {
   "cell_type": "code",
   "execution_count": 6,
   "metadata": {},
   "outputs": [],
   "source": [
    "person_pat = re.compile(r'[A-Z][0-9]+[：]')\n",
    "unk_pat = re.compile(r'＊＊＊')\n",
    "koyu_pat = re.compile(r'[＊].+[＊]')\n",
    "kakko_pat = re.compile(r'[（][^（）]+[）]')\n",
    "tagu_pat = re.compile(r'[＜][^＜＞]+[＞]')\n",
    "\n",
    "data = [d.rstrip() for d in data if d[0] != '＠']\n",
    "buf = []\n",
    "for d in data:\n",
    "    if not person_pat.match(d):\n",
    "        buf[-1] += d\n",
    "    else:\n",
    "        buf.append(person_pat.sub('', d))\n",
    "data = buf\n",
    "\n",
    "# ＊＊＊を<unk>に置き換え\n",
    "buf = []\n",
    "for d in data:\n",
    "    buf.append(unk_pat.sub('[UNK]', d))\n",
    "data = buf\n",
    "\n",
    "# ＊固有名詞＊を<unk>に置き換え\n",
    "buf = []\n",
    "for d in data:\n",
    "    buf.append(koyu_pat.sub('[UNK]', d))\n",
    "data = buf\n",
    "\n",
    "# （・・・）を削除\n",
    "buf = []\n",
    "for d in data:\n",
    "    buf.append(kakko_pat.sub('', d))\n",
    "data = buf\n",
    "\n",
    "# ＜・・・＞を削除\n",
    "buf = []\n",
    "for d in data:\n",
    "    buf.append(tagu_pat.sub('', d))\n",
    "data = buf"
   ]
  },
  {
   "cell_type": "code",
   "execution_count": 7,
   "metadata": {},
   "outputs": [],
   "source": [
    "with open('data.txt', 'w', encoding='utf-8') as f:\n",
    "    for d in data:\n",
    "        f.write(d+'\\n')"
   ]
  },
  {
   "cell_type": "code",
   "execution_count": 8,
   "metadata": {},
   "outputs": [
    {
     "data": {
      "text/plain": [
       "True"
      ]
     },
     "execution_count": 8,
     "metadata": {},
     "output_type": "execute_result"
    }
   ],
   "source": [
    "spm.SentencePieceTrainer.Train('--control_symbols=<pad> --user_defined_symbols=[UNK] --input=data.txt --model_prefix=trained_model --vocab_size=8000 --add_dummy_prefix=false')"
   ]
  },
  {
   "cell_type": "code",
   "execution_count": 9,
   "metadata": {},
   "outputs": [],
   "source": [
    "sp = spm.SentencePieceProcessor()"
   ]
  },
  {
   "cell_type": "code",
   "execution_count": 10,
   "metadata": {
    "scrolled": true
   },
   "outputs": [
    {
     "data": {
      "text/plain": [
       "True"
      ]
     },
     "execution_count": 10,
     "metadata": {},
     "output_type": "execute_result"
    }
   ],
   "source": [
    "sp.Load('trained_model.model')"
   ]
  },
  {
   "cell_type": "code",
   "execution_count": 11,
   "metadata": {},
   "outputs": [
    {
     "data": {
      "text/plain": [
       "[]"
      ]
     },
     "execution_count": 11,
     "metadata": {},
     "output_type": "execute_result"
    }
   ],
   "source": [
    "sp.EncodeAsIds('')"
   ]
  },
  {
   "cell_type": "code",
   "execution_count": 12,
   "metadata": {
    "scrolled": false
   },
   "outputs": [
    {
     "data": {
      "text/plain": [
       "0"
      ]
     },
     "execution_count": 12,
     "metadata": {},
     "output_type": "execute_result"
    }
   ],
   "source": [
    "sp.PieceToId('')"
   ]
  },
  {
   "cell_type": "code",
   "execution_count": null,
   "metadata": {},
   "outputs": [],
   "source": []
  }
 ],
 "metadata": {
  "kernelspec": {
   "display_name": "NLP-gpu",
   "language": "python",
   "name": "nlp-gpu"
  },
  "language_info": {
   "codemirror_mode": {
    "name": "ipython",
    "version": 3
   },
   "file_extension": ".py",
   "mimetype": "text/x-python",
   "name": "python",
   "nbconvert_exporter": "python",
   "pygments_lexer": "ipython3",
   "version": "3.6.8"
  }
 },
 "nbformat": 4,
 "nbformat_minor": 2
}
